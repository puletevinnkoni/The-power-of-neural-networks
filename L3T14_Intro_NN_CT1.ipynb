{
 "cells": [
  {
   "cell_type": "markdown",
   "metadata": {
    "colab_type": "text",
    "id": "a8YglsAarO23"
   },
   "source": [
    "# The power of neural networks\n",
    "\n",
    "Neurons can be used to model logic gates, the building blocks behind all digital computing. In this compulsory task we talk you through how to do so. We also explain how to represent neural networks in terms of matrix computations."
   ]
  },
  {
   "cell_type": "code",
   "execution_count": 9,
   "metadata": {
    "colab": {},
    "colab_type": "code",
    "id": "nyr9_Tu6rO27"
   },
   "outputs": [],
   "source": [
    "import numpy as np\n",
    "import matplotlib.pyplot as plt\n",
    "%matplotlib inline"
   ]
  },
  {
   "cell_type": "markdown",
   "metadata": {
    "colab_type": "text",
    "id": "7-mcTJnprO3I"
   },
   "source": [
    "## Neurons as logic gates\n",
    "\n",
    "A neuron works by applying an activation function, usually the sigmoid function, to a combination of inputs, input weights and a bias. "
   ]
  },
  {
   "cell_type": "code",
   "execution_count": 10,
   "metadata": {
    "colab": {},
    "colab_type": "code",
    "id": "Ft6TavXAWSS0"
   },
   "outputs": [],
   "source": [
    "class Neuron():\n",
    "  \n",
    "  def __init__(self, W, b):\n",
    "    self.W = W\n",
    "    self.b = b\n",
    "    \n",
    "  def activate(self, X):\n",
    "    return sigmoid(W * X + b)"
   ]
  },
  {
   "cell_type": "markdown",
   "metadata": {
    "colab_type": "text",
    "id": "H3pcg1o5XVuN"
   },
   "source": [
    "Here's a reminder of what the sigmoid function is and what it's output looks like:\n",
    "\n",
    "$$\n",
    "\\sigma = \\frac{1}{1 + e^{-x}}\n",
    "$$\n"
   ]
  },
  {
   "cell_type": "code",
   "execution_count": 11,
   "metadata": {
    "colab": {
     "base_uri": "https://localhost:8080/",
     "height": 286
    },
    "colab_type": "code",
    "executionInfo": {
     "elapsed": 617,
     "status": "ok",
     "timestamp": 1564935493778,
     "user": {
      "displayName": "Esther van den Berg",
      "photoUrl": "",
      "userId": "04126586416623518388"
     },
     "user_tz": -120
    },
    "id": "7WrC8RUprO3L",
    "outputId": "4abfec7a-65ec-4c5f-b5f7-dee85c7a37ba"
   },
   "outputs": [
    {
     "data": {
      "text/plain": [
       "(-10.0, 10.0)"
      ]
     },
     "execution_count": 11,
     "metadata": {},
     "output_type": "execute_result"
    },
    {
     "data": {
      "image/png": "[encoded data removed]",
      "text/plain": [
       "<Figure size 432x288 with 1 Axes>"
      ]
     },
     "metadata": {
      "needs_background": "light"
     },
     "output_type": "display_data"
    }
   ],
   "source": [
    "def sigmoid(x):\n",
    "    return 1.0 / (1.0 + np.exp(-x))\n",
    "  \n",
    "inputs = np.arange(-100,100, step=0.1)\n",
    "plt.plot(inputs, sigmoid(inputs), linewidth=2)\n",
    "plt.grid(True, which='both')\n",
    "plt.axhline(y=0, color='k')\n",
    "plt.axvline(x=0, color='k')\n",
    "plt.xlim([-10, 10])"
   ]
  },
  {
   "cell_type": "markdown",
   "metadata": {
    "colab_type": "text",
    "id": "AqAZ7aCSrO3Z"
   },
   "source": [
    "### Logic gates\n",
    "\n",
    "A logic gate takes in two boolean inputs (0 or 1, i.e. True or False) and returns a single boolean output. An OR gate, for example, returns a 1 if either of the inputs is 1 or both are 1, and 0 only if both inputs are 0. \n"
   ]
  },
  {
   "cell_type": "markdown",
   "metadata": {
    "colab_type": "text",
    "id": "B5fD9G7mX_vr"
   },
   "source": [
    "Can we design a neuron which produces the same outputs as an OR gate? \n",
    "\n",
    "In other words, can we find $w_1$, $w_2$ and $b$, such that $z$ in the following formula\n",
    "\n",
    "$$\n",
    "z = w_1 x_1 + w_2 x_2 + b\n",
    "$$\n",
    "\n",
    "corresponds to the outputs in the following OR gate truth table\n",
    "\n",
    "<table>\n",
    "\n",
    "<tr>\n",
    "<th colspan=\"3\">OR gate truth table</th>\n",
    "</tr>\n",
    "\n",
    "<tr>\n",
    "<th colspan=\"2\">Input</th>\n",
    "<th>Output</th>\n",
    "</tr>\n",
    "\n",
    "<tr>\n",
    "<td>0</td>\n",
    "<td>0</td>\n",
    "<td>0</td>\n",
    "</tr>\n",
    "\n",
    "<tr>\n",
    "<td>0</td>\n",
    "<td>1</td>\n",
    "<td>1</td>\n",
    "</tr>\n",
    "\n",
    "<tr>\n",
    "<td>1</td>\n",
    "<td>0</td>\n",
    "<td>1</td>\n",
    "</tr>\n",
    "\n",
    "<tr>\n",
    "<td>1</td>\n",
    "<td>1</td>\n",
    "<td>1</td>\n",
    "</tr>\n",
    "\n",
    "</table>"
   ]
  },
  {
   "cell_type": "markdown",
   "metadata": {
    "colab_type": "text",
    "id": "jtJTGjH-Y7_9"
   },
   "source": [
    "It turns out that we can.\n",
    "To make it easier to understand how, let's tease apart the weights and inputs of our neuron class to allow 2 inputs and 2 weights."
   ]
  },
  {
   "cell_type": "code",
   "execution_count": 12,
   "metadata": {
    "colab": {},
    "colab_type": "code",
    "id": "6cCOeexuXejJ"
   },
   "outputs": [],
   "source": [
    "class Neuron():\n",
    "  \n",
    "  def __init__(self, w1, w2, b):\n",
    "    self.w1 = w1\n",
    "    self.w2 = w2\n",
    "    self.b = b\n",
    "    \n",
    "  def activate(self, x1, x2):\n",
    "    return sigmoid(self.w1 * x1 + self.w2 * x2 + self.b)\n",
    " \n",
    "logic_inputs = [(0, 0), (0, 1), (1, 0), (1, 1)]"
   ]
  },
  {
   "cell_type": "markdown",
   "metadata": {
    "colab_type": "text",
    "id": "eF1cFmmWXts2"
   },
   "source": [
    "#### Bias\n",
    "\n",
    "The bias determines the value of $z$ if both inputs are 0.\n",
    "If both inputs are 0 we want the output to also be 0. So we must solve:\n",
    "\n",
    "$$\n",
    "0 =\\sigma(0 + 0 + b)\n",
    "$$\n",
    "\n",
    "\n",
    "The sigmoid function outputs values close to 0 if the input is about -7.5 or less, so $b$ must be at least that small. Let's specify $b$ to be -10."
   ]
  },
  {
   "cell_type": "code",
   "execution_count": 13,
   "metadata": {
    "colab": {},
    "colab_type": "code",
    "id": "rxD_KxHgZo3-"
   },
   "outputs": [],
   "source": [
    "b = -10"
   ]
  },
  {
   "cell_type": "markdown",
   "metadata": {
    "colab_type": "text",
    "id": "SyWWypZSZsYt"
   },
   "source": [
    "#### Weights\n",
    "\n",
    "The weights determine what happens when $x_1$ and/or $x_2$ are 1.\n",
    "In all the cases the output should be 1.\n",
    "\n",
    "The sigmoid function outputs about 1 for values larger than about 7.5, let's say 10. For either $w_1 + 0 + -10$ or $0 + w_1 + -10$ to be 10 or more, the weights must be at least 20. \n",
    "\n",
    "This also gives the correct output if both inputs are 1. "
   ]
  },
  {
   "cell_type": "code",
   "execution_count": 14,
   "metadata": {
    "colab": {},
    "colab_type": "code",
    "id": "YX-JkugzbAek"
   },
   "outputs": [],
   "source": [
    "w1, w2 = 20, 20"
   ]
  },
  {
   "cell_type": "markdown",
   "metadata": {
    "colab_type": "text",
    "id": "o1nC-I1WbEhk"
   },
   "source": [
    "Let's try it out."
   ]
  },
  {
   "cell_type": "code",
   "execution_count": 15,
   "metadata": {
    "colab": {
     "base_uri": "https://localhost:8080/",
     "height": 85
    },
    "colab_type": "code",
    "executionInfo": {
     "elapsed": 487,
     "status": "ok",
     "timestamp": 1564936153442,
     "user": {
      "displayName": "Esther van den Berg",
      "photoUrl": "",
      "userId": "04126586416623518388"
     },
     "user_tz": -120
    },
    "id": "RWcOD1CFbFZB",
    "outputId": "bc6c8d8c-6bee-4bad-d31b-52191bce1082"
   },
   "outputs": [
    {
     "name": "stdout",
     "output_type": "stream",
     "text": [
      "0, 0: 0.0\n",
      "0, 1: 1.0\n",
      "1, 0: 1.0\n",
      "1, 1: 1.0\n"
     ]
    }
   ],
   "source": [
    "def make_truth_table(gate):\n",
    "  for x1, x2 in logic_inputs:\n",
    "    output = gate.activate(x1, x2)\n",
    "    print(\"{}, {}: {}\".format(x1, x2, np.round(output)))\n",
    "\n",
    "or_gate = Neuron(20, 20, -10)\n",
    "make_truth_table(or_gate)"
   ]
  },
  {
   "cell_type": "markdown",
   "metadata": {
    "colab_type": "text",
    "id": "ESl-j78arO3j"
   },
   "source": [
    "### Exercise\n",
    "Try to figure out what values for the neurons would model an AND gate."
   ]
  },
  {
   "cell_type": "markdown",
   "metadata": {
    "colab_type": "text",
    "id": "yKxZSnAQrO3i"
   },
   "source": [
    "<table>\n",
    "\n",
    "<tr>\n",
    "<th colspan=\"3\">AND gate truth table</th>\n",
    "</tr>\n",
    "\n",
    "<tr>\n",
    "<th colspan=\"2\">Input</th>\n",
    "<th>Output</th>\n",
    "</tr>\n",
    "\n",
    "<tr>\n",
    "<td>0</td>\n",
    "<td>0</td>\n",
    "<td>0</td>\n",
    "</tr>\n",
    "\n",
    "<tr>\n",
    "<td>0</td>\n",
    "<td>1</td>\n",
    "<td>0</td>\n",
    "</tr>\n",
    "\n",
    "<tr>\n",
    "<td>1</td>\n",
    "<td>0</td>\n",
    "<td>0</td>\n",
    "</tr>\n",
    "\n",
    "<tr>\n",
    "<td>1</td>\n",
    "<td>1</td>\n",
    "<td>1</td>\n",
    "</tr>\n",
    "\n",
    "</table>"
   ]
  },
  {
   "cell_type": "code",
   "execution_count": 21,
   "metadata": {
    "colab": {
     "base_uri": "https://localhost:8080/",
     "height": 85
    },
    "colab_type": "code",
    "executionInfo": {
     "elapsed": 494,
     "status": "ok",
     "timestamp": 1564936156837,
     "user": {
      "displayName": "Esther van den Berg",
      "photoUrl": "",
      "userId": "04126586416623518388"
     },
     "user_tz": -120
    },
    "id": "vgyObUnPrO3l",
    "outputId": "6258ae72-3784-47cc-f350-66e84aafa13e"
   },
   "outputs": [
    {
     "name": "stdout",
     "output_type": "stream",
     "text": [
      "0, 0: 0.0\n",
      "0, 1: 0.0\n",
      "1, 0: 0.0\n",
      "1, 1: 1.0\n"
     ]
    }
   ],
   "source": [
    "# Fix this AND gate so its outputs are correct.\n",
    "\n",
    "and_gate = Neuron(w1=7, w2=7, b=-10)\n",
    "\n",
    "make_truth_table(and_gate)"
   ]
  },
  {
   "cell_type": "markdown",
   "metadata": {
    "colab_type": "text",
    "id": "6TSxHQhOrO3o"
   },
   "source": [
    "### Exercise\n",
    "Do the same for the NOR gate and the NAND gate."
   ]
  },
  {
   "cell_type": "markdown",
   "metadata": {
    "colab_type": "text",
    "id": "j25DAnwvrO3p"
   },
   "source": [
    "<table>\n",
    "\n",
    "<tr>\n",
    "<th colspan=\"3\">NOR gate truth table</th>\n",
    "</tr>\n",
    "\n",
    "<tr>\n",
    "<th colspan=\"2\">Input</th>\n",
    "<th>Output</th>\n",
    "</tr>\n",
    "\n",
    "<tr>\n",
    "<td>0</td>\n",
    "<td>0</td>\n",
    "<td>1</td>\n",
    "</tr>\n",
    "\n",
    "<tr>\n",
    "<td>0</td>\n",
    "<td>1</td>\n",
    "<td>0</td>\n",
    "</tr>\n",
    "\n",
    "<tr>\n",
    "<td>1</td>\n",
    "<td>0</td>\n",
    "<td>0</td>\n",
    "</tr>\n",
    "\n",
    "<tr>\n",
    "<td>1</td>\n",
    "<td>1</td>\n",
    "<td>0</td>\n",
    "</tr>\n",
    "\n",
    "</table>"
   ]
  },
  {
   "cell_type": "code",
   "execution_count": 32,
   "metadata": {
    "colab": {},
    "colab_type": "code",
    "id": "z4mjHXntrO3p"
   },
   "outputs": [
    {
     "name": "stdout",
     "output_type": "stream",
     "text": [
      "0, 0: 1.0\n",
      "0, 1: 0.0\n",
      "1, 0: 0.0\n",
      "1, 1: 0.0\n"
     ]
    }
   ],
   "source": [
    "nor_gate = Neuron(w1=-7, w2=-7, b=7)\n",
    "\n",
    "make_truth_table(nor_gate)"
   ]
  },
  {
   "cell_type": "markdown",
   "metadata": {
    "colab_type": "text",
    "id": "1IZ11iB5rO3r"
   },
   "source": [
    "<table>\n",
    "\n",
    "<tr>\n",
    "<th colspan=\"3\">NAND gate truth table</th>\n",
    "</tr>\n",
    "\n",
    "<tr>\n",
    "<th colspan=\"2\">Input</th>\n",
    "<th>Output</th>\n",
    "</tr>\n",
    "\n",
    "<tr>\n",
    "<td>0</td>\n",
    "<td>0</td>\n",
    "<td>1</td>\n",
    "</tr>\n",
    "\n",
    "<tr>\n",
    "<td>0</td>\n",
    "<td>1</td>\n",
    "<td>1</td>\n",
    "</tr>\n",
    "\n",
    "<tr>\n",
    "<td>1</td>\n",
    "<td>0</td>\n",
    "<td>1</td>\n",
    "</tr>\n",
    "\n",
    "<tr>\n",
    "<td>1</td>\n",
    "<td>1</td>\n",
    "<td>0</td>\n",
    "</tr>\n",
    "\n",
    "</table>"
   ]
  },
  {
   "cell_type": "code",
   "execution_count": 31,
   "metadata": {
    "colab": {},
    "colab_type": "code",
    "id": "iAeI8G44rO3s"
   },
   "outputs": [
    {
     "name": "stdout",
     "output_type": "stream",
     "text": [
      "0, 0: 1.0\n",
      "0, 1: 1.0\n",
      "1, 0: 1.0\n",
      "1, 1: 0.0\n"
     ]
    }
   ],
   "source": [
    "nand_gate = Neuron(w1=-7, w2=-7, b=10)\n",
    "\n",
    "make_truth_table(nand_gate)"
   ]
  },
  {
   "cell_type": "markdown",
   "metadata": {
    "colab_type": "text",
    "id": "XwaXX4DmrO3w"
   },
   "source": [
    "### The XOR Gate\n",
    "\n",
    "Of all logic gates the most important in computer science is the exclusive or or XOR gate. \n",
    "\n",
    "It turns out there is no configuration for our neuron that will replicate the XOR gate truth table. \n",
    "\n",
    "However, the XOR can be modeled by combining three of the gates we just made.  In other words,\n",
    "by combining several neurons into a network.\n",
    "\n",
    "See if you can find the combination of gates that produces this table:\n",
    "\n",
    "<table>\n",
    "\n",
    "<tr>\n",
    "<th colspan=\"3\">XOR gate truth table</th>\n",
    "</tr>\n",
    "\n",
    "<tr>\n",
    "<th colspan=\"2\">Input</th>\n",
    "<th>Output</th>\n",
    "</tr>\n",
    "\n",
    "<tr>\n",
    "<td>0</td>\n",
    "<td>0</td>\n",
    "<td>0</td>\n",
    "</tr>\n",
    "\n",
    "<tr>\n",
    "<td>0</td>\n",
    "<td>1</td>\n",
    "<td>1</td>\n",
    "</tr>\n",
    "\n",
    "<tr>\n",
    "<td>1</td>\n",
    "<td>0</td>\n",
    "<td>1</td>\n",
    "</tr>\n",
    "\n",
    "<tr>\n",
    "<td>1</td>\n",
    "<td>1</td>\n",
    "<td>0</td>\n",
    "</tr>\n",
    "\n",
    "</table>\n",
    "\n"
   ]
  },
  {
   "cell_type": "markdown",
   "metadata": {
    "colab_type": "text",
    "id": "9q25E1v_ewLs"
   },
   "source": [
    "\n",
    "### Exercise\n",
    "\n",
    "Try to combine the gates we discussed. It's already if you do so by trial and error. To help you out, the code below specifies that our combination\n",
    "first passes the inputs to two separate hidden gates or hidden neurons, and then passes the outcome of that to a single output neuron"
   ]
  },
  {
   "cell_type": "code",
   "execution_count": 44,
   "metadata": {
    "colab": {
     "base_uri": "https://localhost:8080/",
     "height": 85
    },
    "colab_type": "code",
    "executionInfo": {
     "elapsed": 561,
     "status": "ok",
     "timestamp": 1564938124434,
     "user": {
      "displayName": "Esther van den Berg",
      "photoUrl": "",
      "userId": "04126586416623518388"
     },
     "user_tz": -120
    },
    "id": "Oe8f8HV1rO3x",
    "outputId": "d1808adc-fc68-4358-a401-8bc8155c4af2"
   },
   "outputs": [
    {
     "name": "stdout",
     "output_type": "stream",
     "text": [
      "0, 0: 0.0\n",
      "0, 1: 1.0\n",
      "1, 0: 1.0\n",
      "1, 1: 0.0\n"
     ]
    }
   ],
   "source": [
    "# Uncomment the xor_gate line and find out which neurons besides the or_gate neuron the \n",
    "# network should have in its hidden and output layer to produce the right values.\n",
    "\n",
    "class Network():\n",
    "  \n",
    "  def __init__(self, gate1, gate2, out_gate):\n",
    "    self.hidden_neuron1 = gate1\n",
    "    self.hidden_neuron2 = gate2\n",
    "    self.out_neuron = out_gate\n",
    "   \n",
    "  def activate(self, x1, x2):\n",
    "    z1 = self.hidden_neuron1.activate(x1, x2)\n",
    "    z2 = self.hidden_neuron2.activate(x1, x2)\n",
    "    return self.out_neuron.activate(z1, z2)\n",
    "  \n",
    "xor_gate = Network(nor_gate, or_gate, and_gate)\n",
    "make_truth_table(xor_gate)"
   ]
  },
  {
   "cell_type": "markdown",
   "metadata": {
    "colab_type": "text",
    "id": "Hg2jOJBArO30"
   },
   "source": [
    "## Matrix Computations\n",
    "\n",
    "The code for a single neuron is fairly simple. When we combine neurons, however, the input is passed through multiple neurons in a hidden layer, which can be very large. The output of the hidden layer is itself either passed to more layers or an output layer of variable size. This can involve absolutely huge computations which are hard to understand and code efficiently.\n",
    "\n",
    "To understand these computations and work with neural network libraries, you must refresh your linear algebra and be able to think of networks in terms of matrix calculations. We'll warm you up with this gentle exercise.\n",
    "\n"
   ]
  },
  {
   "cell_type": "markdown",
   "metadata": {
    "colab_type": "text",
    "id": "6SELDEWQkcrq"
   },
   "source": [
    "### Input\n",
    "\n",
    "Instead of writing the input as seperate variables, we store each input as a vector and all inputs as a matrix."
   ]
  },
  {
   "cell_type": "code",
   "execution_count": 8,
   "metadata": {
    "colab": {
     "base_uri": "https://localhost:8080/",
     "height": 85
    },
    "colab_type": "code",
    "executionInfo": {
     "elapsed": 552,
     "status": "ok",
     "timestamp": 1564940906610,
     "user": {
      "displayName": "Esther van den Berg",
      "photoUrl": "",
      "userId": "04126586416623518388"
     },
     "user_tz": -120
    },
    "id": "h35ap3pRrO36",
    "outputId": "6edb57e9-dbde-4e97-f255-6706e2eb5ef8"
   },
   "outputs": [
    {
     "data": {
      "text/plain": [
       "array([[0, 0],\n",
       "       [0, 1],\n",
       "       [1, 0],\n",
       "       [1, 1]])"
      ]
     },
     "execution_count": 8,
     "metadata": {},
     "output_type": "execute_result"
    }
   ],
   "source": [
    "logic_inputs = np.array(logic_inputs)\n",
    "logic_inputs"
   ]
  },
  {
   "cell_type": "markdown",
   "metadata": {
    "colab_type": "text",
    "id": "FpCii3ddk_nA"
   },
   "source": [
    "### Weights\n",
    "\n",
    "We do the same with weights.\n",
    "There are as many weight matrices as there are layers. \n",
    "Each cell $W_{i,j}$ in the matrix, where $i$ is the ith row and $j$ is the jth column, gives the weight from neuron $i$ in the previous (left) layer to neuron $j$ in the next (right) layer. In W, \n",
    "  \n",
    "\n"
   ]
  },
  {
   "cell_type": "code",
   "execution_count": 72,
   "metadata": {
    "colab": {
     "base_uri": "https://localhost:8080/",
     "height": 51
    },
    "colab_type": "code",
    "executionInfo": {
     "elapsed": 521,
     "status": "ok",
     "timestamp": 1564940575129,
     "user": {
      "displayName": "Esther van den Berg",
      "photoUrl": "",
      "userId": "04126586416623518388"
     },
     "user_tz": -120
    },
    "id": "WIV6j3talC9y",
    "outputId": "3f9543ae-23e2-49a7-fd3f-7956dae0bbe0"
   },
   "outputs": [],
   "source": [
    "# weights of the hidden layer of an OR gate \n",
    "W = np.array([[20], \n",
    "              [20]])"
   ]
  },
  {
   "cell_type": "markdown",
   "metadata": {
    "colab_type": "text",
    "id": "C3AivjeisnPe"
   },
   "source": [
    "Instead of focusing on individual neurons, we focus on layers. \n",
    "We specify what size the input vectors ($m$) for the layer has, how many neurons ($n$) the layer has, and the bias for the layer. \n",
    "Instead of multipying each input with each neuron, we use np.dot to multiply the matrixes."
   ]
  },
  {
   "cell_type": "code",
   "execution_count": 59,
   "metadata": {
    "colab": {
     "base_uri": "https://localhost:8080/",
     "height": 85
    },
    "colab_type": "code",
    "executionInfo": {
     "elapsed": 679,
     "status": "ok",
     "timestamp": 1564942145567,
     "user": {
      "displayName": "Esther van den Berg",
      "photoUrl": "",
      "userId": "04126586416623518388"
     },
     "user_tz": -120
    },
    "id": "xwmV63_msY2X",
    "outputId": "9f277204-04e3-4830-e57c-f58cc3217423"
   },
   "outputs": [
    {
     "data": {
      "text/plain": [
       "array([[1.],\n",
       "       [1.]])"
      ]
     },
     "execution_count": 59,
     "metadata": {},
     "output_type": "execute_result"
    }
   ],
   "source": [
    "class Layer():\n",
    "  \n",
    "  def __init__(self, W, b):\n",
    "    self.m = W.shape[0]\n",
    "    self.n = W.shape[1]\n",
    "    self.W = W\n",
    "    self.b = b\n",
    "    \n",
    "  def activate(self, X):\n",
    "    z = np.dot(20, self.W) + self.b\n",
    "    return sigmoid(z)\n",
    "\n",
    "OR_layer = Layer(W, -10)\n",
    "or_output = OR_layer.activate(20)\n",
    "np.round(or_output)"
   ]
  },
  {
   "cell_type": "markdown",
   "metadata": {
    "colab_type": "text",
    "id": "LOV8eQhKwgCB"
   },
   "source": [
    "### Exercise\n",
    "\n",
    "Finish this version of an XOR gate that more closely resembles a neural network by determining the shapes the weights and biases need to have. "
   ]
  },
  {
   "cell_type": "code",
   "execution_count": 76,
   "metadata": {
    "colab": {},
    "colab_type": "code",
    "id": "SfuZR6OCwo2l"
   },
   "outputs": [],
   "source": [
    "W1 = np.array([[7],\n",
    "               [7]])\n",
    "b1 = np.array([-10])\n",
    "\n",
    "W2 = np.array([[-7], \n",
    "              [-7]])\n",
    "b2 = np.array([7])\n",
    "\n",
    "hidden_layer = Layer(W1, b1)\n",
    "output_layer = Layer(W2, b2)"
   ]
  },
  {
   "cell_type": "code",
   "execution_count": 79,
   "metadata": {
    "colab": {
     "base_uri": "https://localhost:8080/",
     "height": 85
    },
    "colab_type": "code",
    "executionInfo": {
     "elapsed": 546,
     "status": "ok",
     "timestamp": 1564942171867,
     "user": {
      "displayName": "Esther van den Berg",
      "photoUrl": "",
      "userId": "04126586416623518388"
     },
     "user_tz": -120
    },
    "id": "rAs9CrJ7xG9_",
    "outputId": "65f2e39b-78f9-4cc7-d04c-a8919dd76206"
   },
   "outputs": [
    {
     "data": {
      "text/plain": [
       "array([[0.],\n",
       "       [0.]])"
      ]
     },
     "execution_count": 79,
     "metadata": {},
     "output_type": "execute_result"
    }
   ],
   "source": [
    "class Network():\n",
    "  \n",
    "  def __init__(self, hidden, output):\n",
    "    self.hidden = hidden\n",
    "    self.output = output\n",
    "   \n",
    "  def activate(self, X):\n",
    "    z = self.hidden.activate(-7)\n",
    "    return self.output.activate(z)\n",
    "\n",
    "xor_gate = Network(hidden_layer, output_layer)\n",
    "\n",
    "xor_output = xor_gate.activate(-7)\n",
    "np.round(xor_output)"
   ]
  },
  {
   "cell_type": "code",
   "execution_count": null,
   "metadata": {},
   "outputs": [],
   "source": []
  }
 ],
 "metadata": {
  "colab": {
   "collapsed_sections": [],
   "name": "L3T12_Intro_NN_CT1.ipynb",
   "provenance": [],
   "toc_visible": true,
   "version": "0.3.2"
  },
  "kernelspec": {
   "display_name": "Python 3",
   "language": "python",
   "name": "python3"
  },
  "language_info": {
   "codemirror_mode": {
    "name": "ipython",
    "version": 3
   },
   "file_extension": ".py",
   "mimetype": "text/x-python",
   "name": "python",
   "nbconvert_exporter": "python",
   "pygments_lexer": "ipython3",
   "version": "3.8.8"
  }
 },
 "nbformat": 4,
 "nbformat_minor": 1
}
